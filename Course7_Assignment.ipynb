{
  "nbformat": 4,
  "nbformat_minor": 0,
  "metadata": {
    "colab": {
      "provenance": [],
      "authorship_tag": "ABX9TyOV6tt2f5uPjrtM03dCZCy0",
      "include_colab_link": true
    },
    "kernelspec": {
      "name": "python3",
      "display_name": "Python 3"
    },
    "language_info": {
      "name": "python"
    }
  },
  "cells": [
    {
      "cell_type": "markdown",
      "metadata": {
        "id": "view-in-github",
        "colab_type": "text"
      },
      "source": [
        "<a href=\"https://colab.research.google.com/github/tbhavsar1/IBM_DataScience_Certification/blob/master/Course7_Assignment.ipynb\" target=\"_parent\"><img src=\"https://colab.research.google.com/assets/colab-badge.svg\" alt=\"Open In Colab\"/></a>"
      ]
    },
    {
      "cell_type": "code",
      "execution_count": 58,
      "metadata": {
        "colab": {
          "base_uri": "https://localhost:8080/",
          "height": 35
        },
        "id": "O-F1gZwXS202",
        "outputId": "66e6e0b5-3951-4080-bf3c-f6daa7ba914f"
      },
      "outputs": [
        {
          "output_type": "execute_result",
          "data": {
            "text/plain": [
              "'\\nCourse 7 - Assignment\\nLab for Final Project - Data Analytics for House Pricing Data Set\\n'"
            ],
            "application/vnd.google.colaboratory.intrinsic+json": {
              "type": "string"
            }
          },
          "metadata": {},
          "execution_count": 58
        }
      ],
      "source": [
        "'''\n",
        "Course 7 - Assignment\n",
        "Lab for Final Project - Data Analytics for House Pricing Data Set\n",
        "'''"
      ]
    },
    {
      "cell_type": "code",
      "source": [
        "#---------------------------\n",
        "#Import Required Libraries\n",
        "#---------------------------\n",
        "\n",
        "import pandas as pd\n",
        "import matplotlib.pyplot as plt\n",
        "import numpy as np\n",
        "import seaborn as sns\n",
        "from sklearn.pipeline import Pipeline\n",
        "from sklearn.preprocessing import StandardScaler,PolynomialFeatures\n",
        "from sklearn.linear_model import LinearRegression\n",
        "%matplotlib inline"
      ],
      "metadata": {
        "id": "pPdmiZGvXPk4"
      },
      "execution_count": 60,
      "outputs": []
    },
    {
      "cell_type": "code",
      "source": [
        "#---------------------------\n",
        "#Import Data-Set\n",
        "#---------------------------\n",
        "\n",
        "file_name='https://cf-courses-data.s3.us.cloud-object-storage.appdomain.cloud/IBMDeveloperSkillsNetwork-DA0101EN-SkillsNetwork/labs/FinalModule_Coursera/data/kc_house_data_NaN.csv'\n",
        "data=pd.read_csv(file_name)\n"
      ],
      "metadata": {
        "id": "sOMdx1XkXjWy"
      },
      "execution_count": 61,
      "outputs": []
    },
    {
      "cell_type": "code",
      "source": [
        "print(f\"data.head():\\n{data.head()}\")"
      ],
      "metadata": {
        "colab": {
          "base_uri": "https://localhost:8080/"
        },
        "id": "r63mub2xXrTn",
        "outputId": "505a16a2-ec0e-4c57-a123-9b2b2ad60a82"
      },
      "execution_count": 62,
      "outputs": [
        {
          "output_type": "stream",
          "name": "stdout",
          "text": [
            "data.head():\n",
            "   Unnamed: 0          id             date     price  bedrooms  bathrooms  \\\n",
            "0           0  7129300520  20141013T000000  221900.0       3.0       1.00   \n",
            "1           1  6414100192  20141209T000000  538000.0       3.0       2.25   \n",
            "2           2  5631500400  20150225T000000  180000.0       2.0       1.00   \n",
            "3           3  2487200875  20141209T000000  604000.0       4.0       3.00   \n",
            "4           4  1954400510  20150218T000000  510000.0       3.0       2.00   \n",
            "\n",
            "   sqft_living  sqft_lot  floors  waterfront  ...  grade  sqft_above  \\\n",
            "0         1180      5650     1.0           0  ...      7        1180   \n",
            "1         2570      7242     2.0           0  ...      7        2170   \n",
            "2          770     10000     1.0           0  ...      6         770   \n",
            "3         1960      5000     1.0           0  ...      7        1050   \n",
            "4         1680      8080     1.0           0  ...      8        1680   \n",
            "\n",
            "   sqft_basement  yr_built  yr_renovated  zipcode      lat     long  \\\n",
            "0              0      1955             0    98178  47.5112 -122.257   \n",
            "1            400      1951          1991    98125  47.7210 -122.319   \n",
            "2              0      1933             0    98028  47.7379 -122.233   \n",
            "3            910      1965             0    98136  47.5208 -122.393   \n",
            "4              0      1987             0    98074  47.6168 -122.045   \n",
            "\n",
            "   sqft_living15  sqft_lot15  \n",
            "0           1340        5650  \n",
            "1           1690        7639  \n",
            "2           2720        8062  \n",
            "3           1360        5000  \n",
            "4           1800        7503  \n",
            "\n",
            "[5 rows x 22 columns]\n"
          ]
        }
      ]
    },
    {
      "cell_type": "code",
      "source": [
        "'''\n",
        "Display the data types of each column using the attribute dtypes, then take a screenshot and submit it.\n",
        "Include your code in the image.\n",
        "'''\n",
        "\n",
        "print(f\"data.dtypes:\\n{data.dtypes}\")\n"
      ],
      "metadata": {
        "colab": {
          "base_uri": "https://localhost:8080/"
        },
        "id": "jNFEmS3QYFFL",
        "outputId": "948e5869-d882-47a6-f025-633146fb6c97"
      },
      "execution_count": 63,
      "outputs": [
        {
          "output_type": "stream",
          "name": "stdout",
          "text": [
            "data.dtypes:\n",
            "Unnamed: 0         int64\n",
            "id                 int64\n",
            "date              object\n",
            "price            float64\n",
            "bedrooms         float64\n",
            "bathrooms        float64\n",
            "sqft_living        int64\n",
            "sqft_lot           int64\n",
            "floors           float64\n",
            "waterfront         int64\n",
            "view               int64\n",
            "condition          int64\n",
            "grade              int64\n",
            "sqft_above         int64\n",
            "sqft_basement      int64\n",
            "yr_built           int64\n",
            "yr_renovated       int64\n",
            "zipcode            int64\n",
            "lat              float64\n",
            "long             float64\n",
            "sqft_living15      int64\n",
            "sqft_lot15         int64\n",
            "dtype: object\n"
          ]
        }
      ]
    },
    {
      "cell_type": "code",
      "source": [
        "#-------------------------------------------------\n",
        "#obtain a statistical summary of the data frame\n",
        "#-------------------------------------------------\n",
        "\n",
        "print(f\"data.describe():\\n{data.describe()}\")\n"
      ],
      "metadata": {
        "colab": {
          "base_uri": "https://localhost:8080/"
        },
        "id": "r89hNkWWYa2W",
        "outputId": "fb57f21a-707a-42e3-f4fa-e1c13851379f"
      },
      "execution_count": 64,
      "outputs": [
        {
          "output_type": "stream",
          "name": "stdout",
          "text": [
            "data.describe():\n",
            "        Unnamed: 0            id         price      bedrooms     bathrooms  \\\n",
            "count  21613.00000  2.161300e+04  2.161300e+04  21600.000000  21603.000000   \n",
            "mean   10806.00000  4.580302e+09  5.400881e+05      3.372870      2.115736   \n",
            "std     6239.28002  2.876566e+09  3.671272e+05      0.926657      0.768996   \n",
            "min        0.00000  1.000102e+06  7.500000e+04      1.000000      0.500000   \n",
            "25%     5403.00000  2.123049e+09  3.219500e+05      3.000000      1.750000   \n",
            "50%    10806.00000  3.904930e+09  4.500000e+05      3.000000      2.250000   \n",
            "75%    16209.00000  7.308900e+09  6.450000e+05      4.000000      2.500000   \n",
            "max    21612.00000  9.900000e+09  7.700000e+06     33.000000      8.000000   \n",
            "\n",
            "        sqft_living      sqft_lot        floors    waterfront          view  \\\n",
            "count  21613.000000  2.161300e+04  21613.000000  21613.000000  21613.000000   \n",
            "mean    2079.899736  1.510697e+04      1.494309      0.007542      0.234303   \n",
            "std      918.440897  4.142051e+04      0.539989      0.086517      0.766318   \n",
            "min      290.000000  5.200000e+02      1.000000      0.000000      0.000000   \n",
            "25%     1427.000000  5.040000e+03      1.000000      0.000000      0.000000   \n",
            "50%     1910.000000  7.618000e+03      1.500000      0.000000      0.000000   \n",
            "75%     2550.000000  1.068800e+04      2.000000      0.000000      0.000000   \n",
            "max    13540.000000  1.651359e+06      3.500000      1.000000      4.000000   \n",
            "\n",
            "       ...         grade    sqft_above  sqft_basement      yr_built  \\\n",
            "count  ...  21613.000000  21613.000000   21613.000000  21613.000000   \n",
            "mean   ...      7.656873   1788.390691     291.509045   1971.005136   \n",
            "std    ...      1.175459    828.090978     442.575043     29.373411   \n",
            "min    ...      1.000000    290.000000       0.000000   1900.000000   \n",
            "25%    ...      7.000000   1190.000000       0.000000   1951.000000   \n",
            "50%    ...      7.000000   1560.000000       0.000000   1975.000000   \n",
            "75%    ...      8.000000   2210.000000     560.000000   1997.000000   \n",
            "max    ...     13.000000   9410.000000    4820.000000   2015.000000   \n",
            "\n",
            "       yr_renovated       zipcode           lat          long  sqft_living15  \\\n",
            "count  21613.000000  21613.000000  21613.000000  21613.000000   21613.000000   \n",
            "mean      84.402258  98077.939805     47.560053   -122.213896    1986.552492   \n",
            "std      401.679240     53.505026      0.138564      0.140828     685.391304   \n",
            "min        0.000000  98001.000000     47.155900   -122.519000     399.000000   \n",
            "25%        0.000000  98033.000000     47.471000   -122.328000    1490.000000   \n",
            "50%        0.000000  98065.000000     47.571800   -122.230000    1840.000000   \n",
            "75%        0.000000  98118.000000     47.678000   -122.125000    2360.000000   \n",
            "max     2015.000000  98199.000000     47.777600   -121.315000    6210.000000   \n",
            "\n",
            "          sqft_lot15  \n",
            "count   21613.000000  \n",
            "mean    12768.455652  \n",
            "std     27304.179631  \n",
            "min       651.000000  \n",
            "25%      5100.000000  \n",
            "50%      7620.000000  \n",
            "75%     10083.000000  \n",
            "max    871200.000000  \n",
            "\n",
            "[8 rows x 21 columns]\n"
          ]
        }
      ]
    },
    {
      "cell_type": "code",
      "source": [
        "'''\n",
        "Question 2\n",
        "\n",
        "Data Wrangling -  Drop the columns \"id\" and \"Unnamed: 0\" from axis 1 using the method drop(), then use the method describe()\n",
        "to obtain a statistical summary of the data. Take a screenshot and submit it, make sure the inplace parameter is set to True\n",
        "'''\n",
        "\n",
        "data.drop(\"id\", axis = 1, inplace = True)\n",
        "data.drop(\"Unnamed: 0\", axis = 1, inplace = True)\n",
        "\n",
        "print(f\"data.describe():\\n{data.describe()}\")\n"
      ],
      "metadata": {
        "colab": {
          "base_uri": "https://localhost:8080/"
        },
        "id": "OZ375-MJYgnU",
        "outputId": "766ecf21-dab2-4eb5-9158-8b413a92de14"
      },
      "execution_count": 65,
      "outputs": [
        {
          "output_type": "stream",
          "name": "stdout",
          "text": [
            "data.describe():\n",
            "              price      bedrooms     bathrooms   sqft_living      sqft_lot  \\\n",
            "count  2.161300e+04  21600.000000  21603.000000  21613.000000  2.161300e+04   \n",
            "mean   5.400881e+05      3.372870      2.115736   2079.899736  1.510697e+04   \n",
            "std    3.671272e+05      0.926657      0.768996    918.440897  4.142051e+04   \n",
            "min    7.500000e+04      1.000000      0.500000    290.000000  5.200000e+02   \n",
            "25%    3.219500e+05      3.000000      1.750000   1427.000000  5.040000e+03   \n",
            "50%    4.500000e+05      3.000000      2.250000   1910.000000  7.618000e+03   \n",
            "75%    6.450000e+05      4.000000      2.500000   2550.000000  1.068800e+04   \n",
            "max    7.700000e+06     33.000000      8.000000  13540.000000  1.651359e+06   \n",
            "\n",
            "             floors    waterfront          view     condition         grade  \\\n",
            "count  21613.000000  21613.000000  21613.000000  21613.000000  21613.000000   \n",
            "mean       1.494309      0.007542      0.234303      3.409430      7.656873   \n",
            "std        0.539989      0.086517      0.766318      0.650743      1.175459   \n",
            "min        1.000000      0.000000      0.000000      1.000000      1.000000   \n",
            "25%        1.000000      0.000000      0.000000      3.000000      7.000000   \n",
            "50%        1.500000      0.000000      0.000000      3.000000      7.000000   \n",
            "75%        2.000000      0.000000      0.000000      4.000000      8.000000   \n",
            "max        3.500000      1.000000      4.000000      5.000000     13.000000   \n",
            "\n",
            "         sqft_above  sqft_basement      yr_built  yr_renovated       zipcode  \\\n",
            "count  21613.000000   21613.000000  21613.000000  21613.000000  21613.000000   \n",
            "mean    1788.390691     291.509045   1971.005136     84.402258  98077.939805   \n",
            "std      828.090978     442.575043     29.373411    401.679240     53.505026   \n",
            "min      290.000000       0.000000   1900.000000      0.000000  98001.000000   \n",
            "25%     1190.000000       0.000000   1951.000000      0.000000  98033.000000   \n",
            "50%     1560.000000       0.000000   1975.000000      0.000000  98065.000000   \n",
            "75%     2210.000000     560.000000   1997.000000      0.000000  98118.000000   \n",
            "max     9410.000000    4820.000000   2015.000000   2015.000000  98199.000000   \n",
            "\n",
            "                lat          long  sqft_living15     sqft_lot15  \n",
            "count  21613.000000  21613.000000   21613.000000   21613.000000  \n",
            "mean      47.560053   -122.213896    1986.552492   12768.455652  \n",
            "std        0.138564      0.140828     685.391304   27304.179631  \n",
            "min       47.155900   -122.519000     399.000000     651.000000  \n",
            "25%       47.471000   -122.328000    1490.000000    5100.000000  \n",
            "50%       47.571800   -122.230000    1840.000000    7620.000000  \n",
            "75%       47.678000   -122.125000    2360.000000   10083.000000  \n",
            "max       47.777600   -121.315000    6210.000000  871200.000000  \n"
          ]
        }
      ]
    },
    {
      "cell_type": "code",
      "source": [
        "#--------------------------------------------------------------------\n",
        "#Identify missing values for the columns bedrooms and bathrooms\n",
        "#--------------------------------------------------------------------\n",
        "\n",
        "print(\"number of NaN values for the column bedrooms :\", data['bedrooms'].isnull().sum())\n",
        "\n",
        "print(\"number of NaN values for the column bathrooms :\", data['bathrooms'].isnull().sum())"
      ],
      "metadata": {
        "colab": {
          "base_uri": "https://localhost:8080/"
        },
        "id": "Y3rQbqwKZVNv",
        "outputId": "9b729f92-6a83-4935-e89f-d56c09444fd0"
      },
      "execution_count": 66,
      "outputs": [
        {
          "output_type": "stream",
          "name": "stdout",
          "text": [
            "number of NaN values for the column bedrooms : 13\n",
            "number of NaN values for the column bathrooms : 10\n"
          ]
        }
      ]
    },
    {
      "cell_type": "code",
      "source": [
        "'''\n",
        "Replace the missing values of the column 'bedrooms' with the mean of the column 'bedrooms' using the method replace().\n",
        "useing inplace parameter to True\n",
        "'''\n",
        "\n",
        "mean=data['bedrooms'].mean()\n",
        "data.replace({'bedrooms': {np.nan: mean}}, inplace=True)\n"
      ],
      "metadata": {
        "id": "rEO_qdXGZpgZ"
      },
      "execution_count": 67,
      "outputs": []
    },
    {
      "cell_type": "code",
      "source": [
        "'''\n",
        "Replace the missing values of the column 'bathrooms' with the mean of the column 'bathrooms' using the method replace().\n",
        "using - inplace parameter top True\n",
        "'''\n",
        "\n",
        "mean=data['bathrooms'].mean()\n",
        "data.replace({'bathrooms': {np.nan: mean}}, inplace=True)"
      ],
      "metadata": {
        "id": "0XQfWQTca604"
      },
      "execution_count": 68,
      "outputs": []
    },
    {
      "cell_type": "code",
      "source": [
        "#check for NaN\n",
        "\n",
        "print(\"number of NaN values for the column bedrooms :\", data['bedrooms'].isnull().sum())\n",
        "print(\"number of NaN values for the column bathrooms :\", data['bathrooms'].isnull().sum())"
      ],
      "metadata": {
        "colab": {
          "base_uri": "https://localhost:8080/"
        },
        "id": "TEimMA2vbg2M",
        "outputId": "2cd6aa41-b0c7-4466-ef95-64678d724ab8"
      },
      "execution_count": 69,
      "outputs": [
        {
          "output_type": "stream",
          "name": "stdout",
          "text": [
            "number of NaN values for the column bedrooms : 0\n",
            "number of NaN values for the column bathrooms : 0\n"
          ]
        }
      ]
    },
    {
      "cell_type": "code",
      "source": [
        "'''\n",
        "Perform EDA- Exploratory Data Analysis\n",
        "#Question 3\n",
        "Use the method value_counts to count the number of houses with unique floor values, use the method .to_frame() to convert it to a dataframe.\n",
        "'''\n",
        "data['floors'].value_counts().to_frame()\n"
      ],
      "metadata": {
        "colab": {
          "base_uri": "https://localhost:8080/",
          "height": 269
        },
        "id": "aY06QV26brlr",
        "outputId": "060bee2c-58b5-46e2-a20a-408bcfc696ac"
      },
      "execution_count": 70,
      "outputs": [
        {
          "output_type": "execute_result",
          "data": {
            "text/plain": [
              "        count\n",
              "floors       \n",
              "1.0     10680\n",
              "2.0      8241\n",
              "1.5      1910\n",
              "3.0       613\n",
              "2.5       161\n",
              "3.5         8"
            ],
            "text/html": [
              "\n",
              "  <div id=\"df-da441376-44e8-4a86-9f0b-f2619730b70b\" class=\"colab-df-container\">\n",
              "    <div>\n",
              "<style scoped>\n",
              "    .dataframe tbody tr th:only-of-type {\n",
              "        vertical-align: middle;\n",
              "    }\n",
              "\n",
              "    .dataframe tbody tr th {\n",
              "        vertical-align: top;\n",
              "    }\n",
              "\n",
              "    .dataframe thead th {\n",
              "        text-align: right;\n",
              "    }\n",
              "</style>\n",
              "<table border=\"1\" class=\"dataframe\">\n",
              "  <thead>\n",
              "    <tr style=\"text-align: right;\">\n",
              "      <th></th>\n",
              "      <th>count</th>\n",
              "    </tr>\n",
              "    <tr>\n",
              "      <th>floors</th>\n",
              "      <th></th>\n",
              "    </tr>\n",
              "  </thead>\n",
              "  <tbody>\n",
              "    <tr>\n",
              "      <th>1.0</th>\n",
              "      <td>10680</td>\n",
              "    </tr>\n",
              "    <tr>\n",
              "      <th>2.0</th>\n",
              "      <td>8241</td>\n",
              "    </tr>\n",
              "    <tr>\n",
              "      <th>1.5</th>\n",
              "      <td>1910</td>\n",
              "    </tr>\n",
              "    <tr>\n",
              "      <th>3.0</th>\n",
              "      <td>613</td>\n",
              "    </tr>\n",
              "    <tr>\n",
              "      <th>2.5</th>\n",
              "      <td>161</td>\n",
              "    </tr>\n",
              "    <tr>\n",
              "      <th>3.5</th>\n",
              "      <td>8</td>\n",
              "    </tr>\n",
              "  </tbody>\n",
              "</table>\n",
              "</div>\n",
              "    <div class=\"colab-df-buttons\">\n",
              "\n",
              "  <div class=\"colab-df-container\">\n",
              "    <button class=\"colab-df-convert\" onclick=\"convertToInteractive('df-da441376-44e8-4a86-9f0b-f2619730b70b')\"\n",
              "            title=\"Convert this dataframe to an interactive table.\"\n",
              "            style=\"display:none;\">\n",
              "\n",
              "  <svg xmlns=\"http://www.w3.org/2000/svg\" height=\"24px\" viewBox=\"0 -960 960 960\">\n",
              "    <path d=\"M120-120v-720h720v720H120Zm60-500h600v-160H180v160Zm220 220h160v-160H400v160Zm0 220h160v-160H400v160ZM180-400h160v-160H180v160Zm440 0h160v-160H620v160ZM180-180h160v-160H180v160Zm440 0h160v-160H620v160Z\"/>\n",
              "  </svg>\n",
              "    </button>\n",
              "\n",
              "  <style>\n",
              "    .colab-df-container {\n",
              "      display:flex;\n",
              "      gap: 12px;\n",
              "    }\n",
              "\n",
              "    .colab-df-convert {\n",
              "      background-color: #E8F0FE;\n",
              "      border: none;\n",
              "      border-radius: 50%;\n",
              "      cursor: pointer;\n",
              "      display: none;\n",
              "      fill: #1967D2;\n",
              "      height: 32px;\n",
              "      padding: 0 0 0 0;\n",
              "      width: 32px;\n",
              "    }\n",
              "\n",
              "    .colab-df-convert:hover {\n",
              "      background-color: #E2EBFA;\n",
              "      box-shadow: 0px 1px 2px rgba(60, 64, 67, 0.3), 0px 1px 3px 1px rgba(60, 64, 67, 0.15);\n",
              "      fill: #174EA6;\n",
              "    }\n",
              "\n",
              "    .colab-df-buttons div {\n",
              "      margin-bottom: 4px;\n",
              "    }\n",
              "\n",
              "    [theme=dark] .colab-df-convert {\n",
              "      background-color: #3B4455;\n",
              "      fill: #D2E3FC;\n",
              "    }\n",
              "\n",
              "    [theme=dark] .colab-df-convert:hover {\n",
              "      background-color: #434B5C;\n",
              "      box-shadow: 0px 1px 3px 1px rgba(0, 0, 0, 0.15);\n",
              "      filter: drop-shadow(0px 1px 2px rgba(0, 0, 0, 0.3));\n",
              "      fill: #FFFFFF;\n",
              "    }\n",
              "  </style>\n",
              "\n",
              "    <script>\n",
              "      const buttonEl =\n",
              "        document.querySelector('#df-da441376-44e8-4a86-9f0b-f2619730b70b button.colab-df-convert');\n",
              "      buttonEl.style.display =\n",
              "        google.colab.kernel.accessAllowed ? 'block' : 'none';\n",
              "\n",
              "      async function convertToInteractive(key) {\n",
              "        const element = document.querySelector('#df-da441376-44e8-4a86-9f0b-f2619730b70b');\n",
              "        const dataTable =\n",
              "          await google.colab.kernel.invokeFunction('convertToInteractive',\n",
              "                                                    [key], {});\n",
              "        if (!dataTable) return;\n",
              "\n",
              "        const docLinkHtml = 'Like what you see? Visit the ' +\n",
              "          '<a target=\"_blank\" href=https://colab.research.google.com/notebooks/data_table.ipynb>data table notebook</a>'\n",
              "          + ' to learn more about interactive tables.';\n",
              "        element.innerHTML = '';\n",
              "        dataTable['output_type'] = 'display_data';\n",
              "        await google.colab.output.renderOutput(dataTable, element);\n",
              "        const docLink = document.createElement('div');\n",
              "        docLink.innerHTML = docLinkHtml;\n",
              "        element.appendChild(docLink);\n",
              "      }\n",
              "    </script>\n",
              "  </div>\n",
              "\n",
              "\n",
              "    <div id=\"df-834ef96e-6cb1-42fe-9f64-1f7add8e3c58\">\n",
              "      <button class=\"colab-df-quickchart\" onclick=\"quickchart('df-834ef96e-6cb1-42fe-9f64-1f7add8e3c58')\"\n",
              "                title=\"Suggest charts\"\n",
              "                style=\"display:none;\">\n",
              "\n",
              "<svg xmlns=\"http://www.w3.org/2000/svg\" height=\"24px\"viewBox=\"0 0 24 24\"\n",
              "     width=\"24px\">\n",
              "    <g>\n",
              "        <path d=\"M19 3H5c-1.1 0-2 .9-2 2v14c0 1.1.9 2 2 2h14c1.1 0 2-.9 2-2V5c0-1.1-.9-2-2-2zM9 17H7v-7h2v7zm4 0h-2V7h2v10zm4 0h-2v-4h2v4z\"/>\n",
              "    </g>\n",
              "</svg>\n",
              "      </button>\n",
              "\n",
              "<style>\n",
              "  .colab-df-quickchart {\n",
              "      --bg-color: #E8F0FE;\n",
              "      --fill-color: #1967D2;\n",
              "      --hover-bg-color: #E2EBFA;\n",
              "      --hover-fill-color: #174EA6;\n",
              "      --disabled-fill-color: #AAA;\n",
              "      --disabled-bg-color: #DDD;\n",
              "  }\n",
              "\n",
              "  [theme=dark] .colab-df-quickchart {\n",
              "      --bg-color: #3B4455;\n",
              "      --fill-color: #D2E3FC;\n",
              "      --hover-bg-color: #434B5C;\n",
              "      --hover-fill-color: #FFFFFF;\n",
              "      --disabled-bg-color: #3B4455;\n",
              "      --disabled-fill-color: #666;\n",
              "  }\n",
              "\n",
              "  .colab-df-quickchart {\n",
              "    background-color: var(--bg-color);\n",
              "    border: none;\n",
              "    border-radius: 50%;\n",
              "    cursor: pointer;\n",
              "    display: none;\n",
              "    fill: var(--fill-color);\n",
              "    height: 32px;\n",
              "    padding: 0;\n",
              "    width: 32px;\n",
              "  }\n",
              "\n",
              "  .colab-df-quickchart:hover {\n",
              "    background-color: var(--hover-bg-color);\n",
              "    box-shadow: 0 1px 2px rgba(60, 64, 67, 0.3), 0 1px 3px 1px rgba(60, 64, 67, 0.15);\n",
              "    fill: var(--button-hover-fill-color);\n",
              "  }\n",
              "\n",
              "  .colab-df-quickchart-complete:disabled,\n",
              "  .colab-df-quickchart-complete:disabled:hover {\n",
              "    background-color: var(--disabled-bg-color);\n",
              "    fill: var(--disabled-fill-color);\n",
              "    box-shadow: none;\n",
              "  }\n",
              "\n",
              "  .colab-df-spinner {\n",
              "    border: 2px solid var(--fill-color);\n",
              "    border-color: transparent;\n",
              "    border-bottom-color: var(--fill-color);\n",
              "    animation:\n",
              "      spin 1s steps(1) infinite;\n",
              "  }\n",
              "\n",
              "  @keyframes spin {\n",
              "    0% {\n",
              "      border-color: transparent;\n",
              "      border-bottom-color: var(--fill-color);\n",
              "      border-left-color: var(--fill-color);\n",
              "    }\n",
              "    20% {\n",
              "      border-color: transparent;\n",
              "      border-left-color: var(--fill-color);\n",
              "      border-top-color: var(--fill-color);\n",
              "    }\n",
              "    30% {\n",
              "      border-color: transparent;\n",
              "      border-left-color: var(--fill-color);\n",
              "      border-top-color: var(--fill-color);\n",
              "      border-right-color: var(--fill-color);\n",
              "    }\n",
              "    40% {\n",
              "      border-color: transparent;\n",
              "      border-right-color: var(--fill-color);\n",
              "      border-top-color: var(--fill-color);\n",
              "    }\n",
              "    60% {\n",
              "      border-color: transparent;\n",
              "      border-right-color: var(--fill-color);\n",
              "    }\n",
              "    80% {\n",
              "      border-color: transparent;\n",
              "      border-right-color: var(--fill-color);\n",
              "      border-bottom-color: var(--fill-color);\n",
              "    }\n",
              "    90% {\n",
              "      border-color: transparent;\n",
              "      border-bottom-color: var(--fill-color);\n",
              "    }\n",
              "  }\n",
              "</style>\n",
              "\n",
              "      <script>\n",
              "        async function quickchart(key) {\n",
              "          const quickchartButtonEl =\n",
              "            document.querySelector('#' + key + ' button');\n",
              "          quickchartButtonEl.disabled = true;  // To prevent multiple clicks.\n",
              "          quickchartButtonEl.classList.add('colab-df-spinner');\n",
              "          try {\n",
              "            const charts = await google.colab.kernel.invokeFunction(\n",
              "                'suggestCharts', [key], {});\n",
              "          } catch (error) {\n",
              "            console.error('Error during call to suggestCharts:', error);\n",
              "          }\n",
              "          quickchartButtonEl.classList.remove('colab-df-spinner');\n",
              "          quickchartButtonEl.classList.add('colab-df-quickchart-complete');\n",
              "        }\n",
              "        (() => {\n",
              "          let quickchartButtonEl =\n",
              "            document.querySelector('#df-834ef96e-6cb1-42fe-9f64-1f7add8e3c58 button');\n",
              "          quickchartButtonEl.style.display =\n",
              "            google.colab.kernel.accessAllowed ? 'block' : 'none';\n",
              "        })();\n",
              "      </script>\n",
              "    </div>\n",
              "\n",
              "    </div>\n",
              "  </div>\n"
            ],
            "application/vnd.google.colaboratory.intrinsic+json": {
              "type": "dataframe",
              "summary": "{\n  \"name\": \"data['floors']\",\n  \"rows\": 6,\n  \"fields\": [\n    {\n      \"column\": \"floors\",\n      \"properties\": {\n        \"dtype\": \"number\",\n        \"std\": 0.9354143466934853,\n        \"min\": 1.0,\n        \"max\": 3.5,\n        \"num_unique_values\": 6,\n        \"samples\": [\n          1.0,\n          2.0,\n          3.5\n        ],\n        \"semantic_type\": \"\",\n        \"description\": \"\"\n      }\n    },\n    {\n      \"column\": \"count\",\n      \"properties\": {\n        \"dtype\": \"number\",\n        \"std\": 4651,\n        \"min\": 8,\n        \"max\": 10680,\n        \"num_unique_values\": 6,\n        \"samples\": [\n          10680,\n          8241,\n          8\n        ],\n        \"semantic_type\": \"\",\n        \"description\": \"\"\n      }\n    }\n  ]\n}"
            }
          },
          "metadata": {},
          "execution_count": 70
        }
      ]
    },
    {
      "cell_type": "code",
      "source": [
        "'''\n",
        "Question 4\n",
        "Use the function boxplot in the seaborn library to determine whether houses\n",
        "with a waterfront view or without a waterfront view have more price outliers.\n",
        "'''\n",
        "\n",
        "sns.boxplot(x=\"waterfront\",y=\"price\",data=data)\n"
      ],
      "metadata": {
        "colab": {
          "base_uri": "https://localhost:8080/",
          "height": 482
        },
        "id": "18U5hQAwcGhV",
        "outputId": "99729721-897f-4cda-8139-423642c454b7"
      },
      "execution_count": 71,
      "outputs": [
        {
          "output_type": "execute_result",
          "data": {
            "text/plain": [
              "<Axes: xlabel='waterfront', ylabel='price'>"
            ]
          },
          "metadata": {},
          "execution_count": 71
        },
        {
          "output_type": "display_data",
          "data": {
            "text/plain": [
              "<Figure size 640x480 with 1 Axes>"
            ],
            "image/png": "[encoded data removed]"
          },
          "metadata": {}
        }
      ]
    },
    {
      "cell_type": "code",
      "source": [
        "'''\n",
        "Question 5\n",
        "Use the function regplot in the seaborn library to determine if the feature sqft_above is negatively or positively correlated with price.\n",
        "'''\n",
        "sns.regplot(x=\"sqft_above\",y=\"price\",data=data,color='green',ci=None)\n",
        "sns.regplot\n"
      ],
      "metadata": {
        "colab": {
          "base_uri": "https://localhost:8080/",
          "height": 704
        },
        "id": "M0nDEysDcGlv",
        "outputId": "9a3fccaf-1621-4eff-d06d-f8f408bec410"
      },
      "execution_count": 72,
      "outputs": [
        {
          "output_type": "execute_result",
          "data": {
            "text/plain": [
              "<function seaborn.regression.regplot(data=None, *, x=None, y=None, x_estimator=None, x_bins=None, x_ci='ci', scatter=True, fit_reg=True, ci=95, n_boot=1000, units=None, seed=None, order=1, logistic=False, lowess=False, robust=False, logx=False, x_partial=None, y_partial=None, truncate=True, dropna=True, x_jitter=None, y_jitter=None, label=None, color=None, marker='o', scatter_kws=None, line_kws=None, ax=None)>"
            ],
            "text/html": [
              "<div style=\"max-width:800px; border: 1px solid var(--colab-border-color);\"><style>\n",
              "      pre.function-repr-contents {\n",
              "        overflow-x: auto;\n",
              "        padding: 8px 12px;\n",
              "        max-height: 500px;\n",
              "      }\n",
              "\n",
              "      pre.function-repr-contents.function-repr-contents-collapsed {\n",
              "        cursor: pointer;\n",
              "        max-height: 100px;\n",
              "      }\n",
              "    </style>\n",
              "    <pre style=\"white-space: initial; background:\n",
              "         var(--colab-secondary-surface-color); padding: 8px 12px;\n",
              "         border-bottom: 1px solid var(--colab-border-color);\"><b>seaborn.regression.regplot</b><br/>def regplot(data=None, *, x=None, y=None, x_estimator=None, x_bins=None, x_ci=&#x27;ci&#x27;, scatter=True, fit_reg=True, ci=95, n_boot=1000, units=None, seed=None, order=1, logistic=False, lowess=False, robust=False, logx=False, x_partial=None, y_partial=None, truncate=True, dropna=True, x_jitter=None, y_jitter=None, label=None, color=None, marker=&#x27;o&#x27;, scatter_kws=None, line_kws=None, ax=None)</pre><pre class=\"function-repr-contents function-repr-contents-collapsed\" style=\"\"><a class=\"filepath\" style=\"display:none\" href=\"#\">/usr/local/lib/python3.11/dist-packages/seaborn/regression.py</a>Plot data and a linear regression model fit.\n",
              "\n",
              "There are a number of mutually exclusive options for estimating the\n",
              "regression model. See the :ref:`tutorial &lt;regression_tutorial&gt;` for more\n",
              "information.    \n",
              "\n",
              "Parameters\n",
              "----------\n",
              "x, y: string, series, or vector array\n",
              "    Input variables. If strings, these should correspond with column names\n",
              "    in ``data``. When pandas objects are used, axes will be labeled with\n",
              "    the series name.\n",
              "data : DataFrame\n",
              "    Tidy (&quot;long-form&quot;) dataframe where each column is a variable and each\n",
              "    row is an observation.    \n",
              "x_estimator : callable that maps vector -&gt; scalar, optional\n",
              "    Apply this function to each unique value of ``x`` and plot the\n",
              "    resulting estimate. This is useful when ``x`` is a discrete variable.\n",
              "    If ``x_ci`` is given, this estimate will be bootstrapped and a\n",
              "    confidence interval will be drawn.    \n",
              "x_bins : int or vector, optional\n",
              "    Bin the ``x`` variable into discrete bins and then estimate the central\n",
              "    tendency and a confidence interval. This binning only influences how\n",
              "    the scatterplot is drawn; the regression is still fit to the original\n",
              "    data.  This parameter is interpreted either as the number of\n",
              "    evenly-sized (not necessary spaced) bins or the positions of the bin\n",
              "    centers. When this parameter is used, it implies that the default of\n",
              "    ``x_estimator`` is ``numpy.mean``.    \n",
              "x_ci : &quot;ci&quot;, &quot;sd&quot;, int in [0, 100] or None, optional\n",
              "    Size of the confidence interval used when plotting a central tendency\n",
              "    for discrete values of ``x``. If ``&quot;ci&quot;``, defer to the value of the\n",
              "    ``ci`` parameter. If ``&quot;sd&quot;``, skip bootstrapping and show the\n",
              "    standard deviation of the observations in each bin.    \n",
              "scatter : bool, optional\n",
              "    If ``True``, draw a scatterplot with the underlying observations (or\n",
              "    the ``x_estimator`` values).    \n",
              "fit_reg : bool, optional\n",
              "    If ``True``, estimate and plot a regression model relating the ``x``\n",
              "    and ``y`` variables.    \n",
              "ci : int in [0, 100] or None, optional\n",
              "    Size of the confidence interval for the regression estimate. This will\n",
              "    be drawn using translucent bands around the regression line. The\n",
              "    confidence interval is estimated using a bootstrap; for large\n",
              "    datasets, it may be advisable to avoid that computation by setting\n",
              "    this parameter to None.    \n",
              "n_boot : int, optional\n",
              "    Number of bootstrap resamples used to estimate the ``ci``. The default\n",
              "    value attempts to balance time and stability; you may want to increase\n",
              "    this value for &quot;final&quot; versions of plots.    \n",
              "units : variable name in ``data``, optional\n",
              "    If the ``x`` and ``y`` observations are nested within sampling units,\n",
              "    those can be specified here. This will be taken into account when\n",
              "    computing the confidence intervals by performing a multilevel bootstrap\n",
              "    that resamples both units and observations (within unit). This does not\n",
              "    otherwise influence how the regression is estimated or drawn.    \n",
              "seed : int, numpy.random.Generator, or numpy.random.RandomState, optional\n",
              "    Seed or random number generator for reproducible bootstrapping.    \n",
              "order : int, optional\n",
              "    If ``order`` is greater than 1, use ``numpy.polyfit`` to estimate a\n",
              "    polynomial regression.    \n",
              "logistic : bool, optional\n",
              "    If ``True``, assume that ``y`` is a binary variable and use\n",
              "    ``statsmodels`` to estimate a logistic regression model. Note that this\n",
              "    is substantially more computationally intensive than linear regression,\n",
              "    so you may wish to decrease the number of bootstrap resamples\n",
              "    (``n_boot``) or set ``ci`` to None.    \n",
              "lowess : bool, optional\n",
              "    If ``True``, use ``statsmodels`` to estimate a nonparametric lowess\n",
              "    model (locally weighted linear regression). Note that confidence\n",
              "    intervals cannot currently be drawn for this kind of model.    \n",
              "robust : bool, optional\n",
              "    If ``True``, use ``statsmodels`` to estimate a robust regression. This\n",
              "    will de-weight outliers. Note that this is substantially more\n",
              "    computationally intensive than standard linear regression, so you may\n",
              "    wish to decrease the number of bootstrap resamples (``n_boot``) or set\n",
              "    ``ci`` to None.    \n",
              "logx : bool, optional\n",
              "    If ``True``, estimate a linear regression of the form y ~ log(x), but\n",
              "    plot the scatterplot and regression model in the input space. Note that\n",
              "    ``x`` must be positive for this to work.    \n",
              "{x,y}_partial : strings in ``data`` or matrices\n",
              "    Confounding variables to regress out of the ``x`` or ``y`` variables\n",
              "    before plotting.    \n",
              "truncate : bool, optional\n",
              "    If ``True``, the regression line is bounded by the data limits. If\n",
              "    ``False``, it extends to the ``x`` axis limits.\n",
              "\n",
              "{x,y}_jitter : floats, optional\n",
              "    Add uniform random noise of this size to either the ``x`` or ``y``\n",
              "    variables. The noise is added to a copy of the data after fitting the\n",
              "    regression, and only influences the look of the scatterplot. This can\n",
              "    be helpful when plotting variables that take discrete values.    \n",
              "label : string\n",
              "    Label to apply to either the scatterplot or regression line (if\n",
              "    ``scatter`` is ``False``) for use in a legend.\n",
              "color : matplotlib color\n",
              "    Color to apply to all plot elements; will be superseded by colors\n",
              "    passed in ``scatter_kws`` or ``line_kws``.\n",
              "marker : matplotlib marker code\n",
              "    Marker to use for the scatterplot glyphs.\n",
              "{scatter,line}_kws : dictionaries\n",
              "    Additional keyword arguments to pass to ``plt.scatter`` and\n",
              "    ``plt.plot``.    \n",
              "ax : matplotlib Axes, optional\n",
              "    Axes object to draw the plot onto, otherwise uses the current Axes.\n",
              "\n",
              "Returns\n",
              "-------\n",
              "ax : matplotlib Axes\n",
              "    The Axes object containing the plot.\n",
              "\n",
              "See Also\n",
              "--------\n",
              "lmplot : Combine :func:`regplot` and :class:`FacetGrid` to plot multiple\n",
              "         linear relationships in a dataset.\n",
              "jointplot : Combine :func:`regplot` and :class:`JointGrid` (when used with\n",
              "            ``kind=&quot;reg&quot;``).\n",
              "pairplot : Combine :func:`regplot` and :class:`PairGrid` (when used with\n",
              "           ``kind=&quot;reg&quot;``).\n",
              "residplot : Plot the residuals of a linear regression model.\n",
              "\n",
              "Notes\n",
              "-----\n",
              "\n",
              "The :func:`regplot` and :func:`lmplot` functions are closely related, but\n",
              "the former is an axes-level function while the latter is a figure-level\n",
              "function that combines :func:`regplot` and :class:`FacetGrid`.    \n",
              "\n",
              "\n",
              "It&#x27;s also easy to combine :func:`regplot` and :class:`JointGrid` or\n",
              ":class:`PairGrid` through the :func:`jointplot` and :func:`pairplot`\n",
              "functions, although these do not directly accept all of :func:`regplot`&#x27;s\n",
              "parameters.\n",
              "\n",
              "Examples\n",
              "--------\n",
              "\n",
              ".. include:: ../docstrings/regplot.rst</pre>\n",
              "      <script>\n",
              "      if (google.colab.kernel.accessAllowed && google.colab.files && google.colab.files.view) {\n",
              "        for (const element of document.querySelectorAll('.filepath')) {\n",
              "          element.style.display = 'block'\n",
              "          element.onclick = (event) => {\n",
              "            event.preventDefault();\n",
              "            event.stopPropagation();\n",
              "            google.colab.files.view(element.textContent, 752);\n",
              "          };\n",
              "        }\n",
              "      }\n",
              "      for (const element of document.querySelectorAll('.function-repr-contents')) {\n",
              "        element.onclick = (event) => {\n",
              "          event.preventDefault();\n",
              "          event.stopPropagation();\n",
              "          element.classList.toggle('function-repr-contents-collapsed');\n",
              "        };\n",
              "      }\n",
              "      </script>\n",
              "      </div>"
            ]
          },
          "metadata": {},
          "execution_count": 72
        },
        {
          "output_type": "display_data",
          "data": {
            "text/plain": [
              "<Figure size 640x480 with 1 Axes>"
            ],
            "image/png": "[encoded data removed]"
          },
          "metadata": {}
        }
      ]
    },
    {
      "cell_type": "code",
      "source": [
        "#-------------------------\n",
        "#Print Correlations\n",
        "#-------------------------\n",
        "\n",
        "print(data.select_dtypes(include='number').corr()['price'].sort_values())\n"
      ],
      "metadata": {
        "colab": {
          "base_uri": "https://localhost:8080/"
        },
        "id": "N_ZUOrSIcGqf",
        "outputId": "1fca01ce-fd76-43f7-d658-0ed0e6ee4a33"
      },
      "execution_count": 73,
      "outputs": [
        {
          "output_type": "stream",
          "name": "stdout",
          "text": [
            "zipcode         -0.053203\n",
            "long             0.021626\n",
            "condition        0.036362\n",
            "yr_built         0.054012\n",
            "sqft_lot15       0.082447\n",
            "sqft_lot         0.089661\n",
            "yr_renovated     0.126434\n",
            "floors           0.256794\n",
            "waterfront       0.266369\n",
            "lat              0.307003\n",
            "bedrooms         0.308797\n",
            "sqft_basement    0.323816\n",
            "view             0.397293\n",
            "bathrooms        0.525738\n",
            "sqft_living15    0.585379\n",
            "sqft_above       0.605567\n",
            "grade            0.667434\n",
            "sqft_living      0.702035\n",
            "price            1.000000\n",
            "Name: price, dtype: float64\n"
          ]
        }
      ]
    },
    {
      "cell_type": "code",
      "source": [
        "'''\n",
        "Model Development\n",
        "Define & Fit a linear regression model using the longitude feature 'long' and caculate the R^2.\n",
        "'''\n",
        "\n",
        "print(f\"data.columns:\\n{data.columns}\")\n",
        "\n",
        "X = data[['long']]\n",
        "Y = data['price']\n",
        "\n",
        "lm = LinearRegression()\n",
        "\n",
        "lm.fit(X,Y)\n",
        "\n",
        "lm.score(X,Y)\n"
      ],
      "metadata": {
        "colab": {
          "base_uri": "https://localhost:8080/"
        },
        "id": "STx7u2LJcGum",
        "outputId": "d52ac89a-d25f-4cca-8f08-744094021176"
      },
      "execution_count": 75,
      "outputs": [
        {
          "output_type": "stream",
          "name": "stdout",
          "text": [
            "data.columns:\n",
            "Index(['date', 'price', 'bedrooms', 'bathrooms', 'sqft_living', 'sqft_lot',\n",
            "       'floors', 'waterfront', 'view', 'condition', 'grade', 'sqft_above',\n",
            "       'sqft_basement', 'yr_built', 'yr_renovated', 'zipcode', 'lat', 'long',\n",
            "       'sqft_living15', 'sqft_lot15'],\n",
            "      dtype='object')\n"
          ]
        },
        {
          "output_type": "execute_result",
          "data": {
            "text/plain": [
              "0.00046769430149007363"
            ]
          },
          "metadata": {},
          "execution_count": 75
        }
      ]
    },
    {
      "cell_type": "code",
      "source": [
        "'''\n",
        "Question 6\n",
        "Fit a linear regression model to predict the 'price' using the feature 'sqft_living' then calculate the R^2.\n",
        "'''\n",
        "\n",
        "X1 = data[['sqft_living']]\n",
        "Y1 = data['price']\n",
        "lm = LinearRegression()\n",
        "lm\n",
        "lm.fit(X1,Y1)\n",
        "lm.score(X1, Y1)"
      ],
      "metadata": {
        "colab": {
          "base_uri": "https://localhost:8080/"
        },
        "id": "MAH96avRcGyx",
        "outputId": "c5803464-a5dd-4899-c5a0-58481dcb624b"
      },
      "execution_count": 76,
      "outputs": [
        {
          "output_type": "execute_result",
          "data": {
            "text/plain": [
              "0.4928532179037931"
            ]
          },
          "metadata": {},
          "execution_count": 76
        }
      ]
    },
    {
      "cell_type": "code",
      "source": [
        "'''\n",
        "Question 7\n",
        "Fit a linear regression model to predict the 'price' using the list of features:\n",
        "'''\n",
        "\n",
        "features =[\"floors\", \"waterfront\",\"lat\" ,\"bedrooms\" ,\"sqft_basement\" ,\"view\" ,\"bathrooms\",\"sqft_living15\",\"sqft_above\",\"grade\",\"sqft_living\"]\n",
        "\n"
      ],
      "metadata": {
        "id": "th0ujn4OcG2s"
      },
      "execution_count": 79,
      "outputs": []
    },
    {
      "cell_type": "code",
      "source": [
        "X2=data[features]\n",
        "Y2=data['price']\n",
        "lm.fit(X2,Y2)\n",
        "lm.score(X2,Y2)"
      ],
      "metadata": {
        "colab": {
          "base_uri": "https://localhost:8080/"
        },
        "id": "kAi5-46wfL7a",
        "outputId": "286367a5-1bcc-49d2-e900-eb49931e86c8"
      },
      "execution_count": 80,
      "outputs": [
        {
          "output_type": "execute_result",
          "data": {
            "text/plain": [
              "0.65769516660375"
            ]
          },
          "metadata": {},
          "execution_count": 80
        }
      ]
    },
    {
      "cell_type": "code",
      "source": [
        "'''\n",
        "Question 8 - create a pipeline object to predict the ‘price’,\n",
        "fit the object using the features in the list features, and calculate the R^2.\n",
        "'''\n",
        "\n",
        "#----------------------------\n",
        "# Define Input for Pipeline\n",
        "#----------------------------\n",
        "\n",
        "Input=[('scale',StandardScaler()),('polynomial', PolynomialFeatures(include_bias=False)),('model',LinearRegression())]\n",
        "\n"
      ],
      "metadata": {
        "id": "8AQ7W-1qfyeE"
      },
      "execution_count": 83,
      "outputs": []
    },
    {
      "cell_type": "code",
      "source": [
        "\n",
        "#-------------------------\n",
        "# Create Pipeline\n",
        "#-------------------------\n",
        "\n",
        "pipe=Pipeline(Input)\n",
        "pipe\n",
        "X = data[features]\n",
        "Y = data['price']\n",
        "pipe.fit(X,Y)\n",
        "\n",
        "pipe.score(X,Y)\n"
      ],
      "metadata": {
        "colab": {
          "base_uri": "https://localhost:8080/"
        },
        "id": "77nvg_n6gGFC",
        "outputId": "d742476d-bedb-4e14-af17-855a1bcb50c6"
      },
      "execution_count": 85,
      "outputs": [
        {
          "output_type": "execute_result",
          "data": {
            "text/plain": [
              "0.7513408515988734"
            ]
          },
          "metadata": {},
          "execution_count": 85
        }
      ]
    },
    {
      "cell_type": "code",
      "source": [
        "'''\n",
        "Model Evaluation and Refinement\n",
        "Create train-test split / Data-Set\n",
        "'''\n",
        "\n",
        "from sklearn.model_selection import cross_val_score\n",
        "from sklearn.model_selection import train_test_split\n",
        "\n",
        "features =[\"floors\", \"waterfront\",\"lat\" ,\"bedrooms\" ,\"sqft_basement\" ,\"view\" ,\"bathrooms\",\"sqft_living15\",\"sqft_above\",\"grade\",\"sqft_living\"]\n",
        "X = data[features]\n",
        "Y = data['price']\n",
        "\n",
        "x_train, x_test, y_train, y_test = train_test_split(X, Y, test_size=0.15, random_state=1)\n",
        "\n",
        "print(\"number of test samples:\", x_test.shape[0])\n",
        "print(\"number of training samples:\",x_train.shape[0])\n"
      ],
      "metadata": {
        "colab": {
          "base_uri": "https://localhost:8080/"
        },
        "id": "SbkeUQIygM23",
        "outputId": "3bf36581-6025-429c-d328-f753e3d05d11"
      },
      "execution_count": 87,
      "outputs": [
        {
          "output_type": "stream",
          "name": "stdout",
          "text": [
            "number of test samples: 3242\n",
            "number of training samples: 18371\n"
          ]
        }
      ]
    },
    {
      "cell_type": "code",
      "source": [
        "'''\n",
        "Question 9 - Create and fit a Ridge regression object using the training data,\n",
        "set the regularization parameter to 0.1, and calculate the R² using the test data.\n",
        "'''\n",
        "\n",
        "from sklearn.linear_model import Ridge\n",
        "\n",
        "RidgeModel=Ridge(alpha=0.1)\n",
        "RidgeModel.fit(x_train,y_train)\n",
        "RidgeModel.score(x_train,y_train)\n"
      ],
      "metadata": {
        "colab": {
          "base_uri": "https://localhost:8080/"
        },
        "id": "9RkmHvWMgvw9",
        "outputId": "6b717682-7e63-4d3e-eba2-99e13f223eae"
      },
      "execution_count": 88,
      "outputs": [
        {
          "output_type": "execute_result",
          "data": {
            "text/plain": [
              "0.6594378534950243"
            ]
          },
          "metadata": {},
          "execution_count": 88
        }
      ]
    },
    {
      "cell_type": "code",
      "source": [
        "'''\n",
        "Question 10 - Second order polynomial transform on both the training data and testing data.\n",
        "Create and fit a Ridge regression object using the training data, set the regularisation parameter to 0.1,\n",
        "and calculate the R² utilising the test data provided. Take a screenshot of your code and the R².\n",
        "'''\n",
        "\n",
        "pr = PolynomialFeatures(degree = 2)\n",
        "\n",
        "x_train_pr = pr.fit_transform(x_train[features])\n",
        "x_test_pr = pr.fit_transform(x_test[features])\n",
        "\n",
        "RidgeModel1 = Ridge(alpha = 0.1)\n",
        "\n",
        "RidgeModel1.fit(x_train_pr, y_train)\n",
        "\n",
        "RidgeModel1.score(x_test_pr, y_test)\n"
      ],
      "metadata": {
        "colab": {
          "base_uri": "https://localhost:8080/"
        },
        "id": "Y3PIXuBLhAyT",
        "outputId": "886691f3-b4e1-42e4-997d-f9585d2bdffd"
      },
      "execution_count": 90,
      "outputs": [
        {
          "output_type": "execute_result",
          "data": {
            "text/plain": [
              "0.7002744273539743"
            ]
          },
          "metadata": {},
          "execution_count": 90
        }
      ]
    }
  ]
}