{
  "nbformat": 4,
  "nbformat_minor": 0,
  "metadata": {
    "colab": {
      "provenance": []
    },
    "kernelspec": {
      "name": "python3",
      "display_name": "Python 3"
    },
    "language_info": {
      "name": "python"
    }
  },
  "cells": [
    {
      "cell_type": "markdown",
      "source": [
        "Exercise 2\n",
        "# Data Science Ecosystem\n"
      ],
      "metadata": {
        "id": "79279-aD0Oaf"
      }
    },
    {
      "cell_type": "markdown",
      "source": [
        "Exercise 3\n",
        "\n",
        "The **Data Science Ecosystem** consists of various tools, frameworks, and methodologies that enable data processing, analysis, and visualization. It includes programming languages, machine learning libraries, big data platforms, and visualization tools.\n"
      ],
      "metadata": {
        "id": "zIrgLZHQ0lvk"
      }
    },
    {
      "cell_type": "markdown",
      "source": [
        "Exercise 4\n",
        "\n",
        "Python & 'R' are Data Science Languages.\n",
        "Double-click (or enter) to edit"
      ],
      "metadata": {
        "id": "9t3_S-YW1Ewt"
      }
    },
    {
      "cell_type": "markdown",
      "source": [
        "Exercise 5\n",
        "pandas, numpy, sklearn are Data Science Libraries.\n",
        "\n"
      ],
      "metadata": {
        "id": "xX29JbgP1N3i"
      }
    },
    {
      "cell_type": "markdown",
      "source": [
        "Exercise 6\n",
        "\n",
        "Here is a table of some widely used Data Science tools:\n",
        "#-\n",
        "| Tool         | Category            | Description                                                                      |\n",
        "|--------------|---------------------|--------------------------------------------------------------------------------\n",
        "| Pandas       | Data Manipulation   | Powerful library for data analysis and manipulation in Python.                   |\n",
        "| NumPy        | Numerical Computing | Provides support for large, multi-dimensional arrays and mathematical functions. |\n",
        "| Matplotlib   | Data Visualization  | Plotting library for creating static, animated, and interactive visualizations.  |\n",
        "| Scikit-learn | Machine Learning    | Simple and efficient tools for predictive data analysis.                         |\n",
        "| TensorFlow   | Deep Learning       | Open-source library for machine learning and deep learning models.               |"
      ],
      "metadata": {
        "id": "xC9W971914UD"
      }
    },
    {
      "cell_type": "markdown",
      "source": [
        "Exercise 7 arithmetic expressions:\n",
        "\n",
        "### Basic Operations:\n",
        "- Addition: $1 + 2 = 3$\n",
        "- Subtraction: $10 - 4 = 6$\n",
        "- Multiplication: $6 \\times 7 = 42$\n",
        "- Division: $20 \\div 5 = 4$"
      ],
      "metadata": {
        "id": "oAEdd-Tr3hzW"
      }
    },
    {
      "cell_type": "code",
      "source": [
        "#Exercise 8 - Multiplication and Addition Example\n",
        "num1 = 10\n",
        "num2 = 5\n",
        "\n",
        "# Perform operations\n",
        "multiplication_result = num1 * num2\n",
        "addition_result = num1 + num2\n",
        "\n",
        "# Print results\n",
        "print(\"Multiplication:\", multiplication_result)\n",
        "print(\"Addition:\", addition_result)"
      ],
      "metadata": {
        "colab": {
          "base_uri": "https://localhost:8080/"
        },
        "id": "Igs6mUEJ4EVr",
        "outputId": "193a5612-eb07-435f-9d78-a13875640f29"
      },
      "execution_count": 26,
      "outputs": [
        {
          "output_type": "stream",
          "name": "stdout",
          "text": [
            "Multiplication: 50\n",
            "Addition: 15\n"
          ]
        }
      ]
    },
    {
      "cell_type": "markdown",
      "source": [],
      "metadata": {
        "id": "nW3bAqwP_fRw"
      }
    },
    {
      "cell_type": "code",
      "source": [
        "#Exercise 9 - Convert minutes to hours\n",
        "def minutes_to_hours(minutes):\n",
        "    hours = minutes / 60\n",
        "    return hours\n",
        "\n",
        "# Example usage\n",
        "minutes = 120  # Change this value as needed\n",
        "hours = minutes_to_hours(minutes)\n",
        "\n",
        "print(f\"{minutes} minutes is equal to {hours} hours\")"
      ],
      "metadata": {
        "colab": {
          "base_uri": "https://localhost:8080/"
        },
        "id": "q1t6oTcy4TZ7",
        "outputId": "c67d93fb-1ce3-4154-861a-e40e99287425"
      },
      "execution_count": 27,
      "outputs": [
        {
          "output_type": "stream",
          "name": "stdout",
          "text": [
            "120 minutes is equal to 2.0 hours\n"
          ]
        }
      ]
    },
    {
      "cell_type": "markdown",
      "source": [
        "Exercise 10\n",
        "\n",
        "**Objectives:**\n",
        "\n",
        "In this notebook, we will cover the following topics:\n",
        "\n",
        "- List popular languages for Data Science.\n",
        "- Explore commonly used libraries and frameworks.\n",
        "- Understand key data science tools and platforms.\n"
      ],
      "metadata": {
        "id": "E2AQhj96_bKF"
      }
    },
    {
      "cell_type": "markdown",
      "source": [
        "Exercise 11\n",
        "\n",
        "## Author\n",
        "\n",
        "Tushar Bhavsar"
      ],
      "metadata": {
        "id": "iIyhmS82AoNH"
      }
    }
  ]
}